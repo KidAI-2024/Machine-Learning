{
 "cells": [
  {
   "cell_type": "code",
   "execution_count": 2,
   "metadata": {},
   "outputs": [
    {
     "ename": "ModuleNotFoundError",
     "evalue": "No module named 'sounddevice'",
     "output_type": "error",
     "traceback": [
      "\u001b[1;31m---------------------------------------------------------------------------\u001b[0m",
      "\u001b[1;31mModuleNotFoundError\u001b[0m                       Traceback (most recent call last)",
      "Cell \u001b[1;32mIn[2], line 2\u001b[0m\n\u001b[0;32m      1\u001b[0m \u001b[38;5;28;01mfrom\u001b[39;00m \u001b[38;5;21;01mpydub\u001b[39;00m \u001b[38;5;28;01mimport\u001b[39;00m AudioSegment\n\u001b[1;32m----> 2\u001b[0m \u001b[38;5;28;01mimport\u001b[39;00m \u001b[38;5;21;01msounddevice\u001b[39;00m \u001b[38;5;28;01mas\u001b[39;00m \u001b[38;5;21;01msd\u001b[39;00m\n\u001b[0;32m      3\u001b[0m \u001b[38;5;28;01mimport\u001b[39;00m \u001b[38;5;21;01mio\u001b[39;00m\n\u001b[0;32m      5\u001b[0m \u001b[38;5;66;03m# Read audio from a file\u001b[39;00m\n",
      "\u001b[1;31mModuleNotFoundError\u001b[0m: No module named 'sounddevice'"
     ]
    }
   ],
   "source": [
    "from pydub import AudioSegment\n",
    "import sounddevice as sd\n",
    "import io\n",
    "\n",
    "# Read audio from a file\n",
    "audio = AudioSegment.from_file(\"path/to/your/audiofile.mp3\")\n",
    "\n",
    "# Convert audio to bytes\n",
    "audio_bytes = io.BytesIO()\n",
    "audio.export(audio_bytes, format=\"wav\")\n",
    "audio_bytes = audio_bytes.getvalue()\n",
    "\n",
    "# Convert bytes back to audio\n",
    "audio_stream = io.BytesIO(audio_bytes)\n",
    "audio_reconstructed = AudioSegment.from_file(audio_stream, format=\"wav\")\n",
    "\n",
    "# Define playback function\n",
    "def play_audio(audio_segment):\n",
    "    data = audio_segment.raw_data\n",
    "    channels = audio_segment.channels\n",
    "    sample_width = audio_segment.sample_width\n",
    "    frame_rate = audio_segment.frame_rate\n",
    "    \n",
    "    # Convert data to numpy array\n",
    "    audio_array = np.frombuffer(data, dtype=np.int16)\n",
    "    audio_array = audio_array.reshape((-1, channels))\n",
    "    \n",
    "    # Play the audio\n",
    "    sd.play(audio_array, samplerate=frame_rate)\n",
    "    sd.wait()\n",
    "\n",
    "# Play the reconstructed audio\n",
    "play_audio(audio_reconstructed)\n"
   ]
  }
 ],
 "metadata": {
  "kernelspec": {
   "display_name": "base",
   "language": "python",
   "name": "python3"
  },
  "language_info": {
   "codemirror_mode": {
    "name": "ipython",
    "version": 3
   },
   "file_extension": ".py",
   "mimetype": "text/x-python",
   "name": "python",
   "nbconvert_exporter": "python",
   "pygments_lexer": "ipython3",
   "version": "3.9.18"
  }
 },
 "nbformat": 4,
 "nbformat_minor": 2
}
